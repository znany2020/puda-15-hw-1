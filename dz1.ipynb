{
 "cells": [
  {
   "cell_type": "markdown",
   "metadata": {},
   "source": [
    "Решение задание 1"
   ]
  },
  {
   "cell_type": "code",
   "execution_count": 1,
   "metadata": {},
   "outputs": [
    {
     "name": "stdout",
     "output_type": "stream",
     "text": [
      "Фраза 1 длинее Фразы 2\n"
     ]
    }
   ],
   "source": [
    "phrase_1 = 'Насколько проще было бы писать программы, если бы не заказчики'\n",
    "phrase_2 = '640Кб должно хватить для любых задач. Билл Гейтс (по легенде)'\n",
    "if len(phrase_1) > len(phrase_2):\n",
    "    print('Фраза 1 длинее Фразы 2')\n",
    "elif len(phrase_1) < len(phrase_2):\n",
    "    print('Фраза 2 длинее Фразы 1')\n",
    "else:\n",
    "    print('Фразы равной длины')"
   ]
  },
  {
   "cell_type": "markdown",
   "metadata": {},
   "source": [
    "Решение задание 2"
   ]
  },
  {
   "cell_type": "code",
   "execution_count": 3,
   "metadata": {},
   "outputs": [
    {
     "name": "stdout",
     "output_type": "stream",
     "text": [
      "Другой год\n"
     ]
    }
   ],
   "source": [
    "year = 2018\n",
    "if year == 2020:\n",
    "    print('Високосный год')\n",
    "elif year == 2019:\n",
    "    print('Обычный год')\n",
    "else:\n",
    "    print('Другой год')"
   ]
  },
  {
   "cell_type": "markdown",
   "metadata": {},
   "source": [
    "Решение задание 3"
   ]
  },
  {
   "cell_type": "code",
   "execution_count": null,
   "metadata": {},
   "outputs": [],
   "source": [
    "day_input = int(input('Введите день'))\n",
    "mouth_input = input('Введите месяц')\n",
    "if day_input == 30 and mouth_input == 'август':\n",
    "    print('Ваш знак зодиака: Дева')\n",
    "elif day_input == 29 and mouth_input == 'октябрь':\n",
    "    print('Ваш знак зодиака: Скорпион')\n",
    "else:\n",
    "    print('Ваш знак неизвестен')"
   ]
  },
  {
   "cell_type": "markdown",
   "metadata": {},
   "source": [
    "Решение задание 4"
   ]
  },
  {
   "cell_type": "code",
   "execution_count": null,
   "metadata": {},
   "outputs": [],
   "source": [
    "width = 10\n",
    "length = 16\n",
    "height = 10\n",
    "if width < 15 and length < 15 and height < 15:\n",
    "    print('Коробка №1')\n",
    "elif width > 0 and length > 200 and height > 0:\n",
    "    print('Упаковка для лыж')\n",
    "elif (width > 15 or length > 15 or height > 15) and (width < 50 or length < 50 or height < 50):\n",
    "    print('Коробка №2')\n",
    "else:\n",
    "    print('Стандартная коробка №3')"
   ]
  },
  {
   "cell_type": "markdown",
   "metadata": {},
   "source": [
    "Решение задание 5"
   ]
  },
  {
   "cell_type": "code",
   "execution_count": null,
   "metadata": {},
   "outputs": [],
   "source": [
    "bilet1_number_input = int(input('Введите первую цифру билета'))\n",
    "bilet2_number_input = int(input('Введите вторую цифру билета'))\n",
    "bilet3_number_input = int(input('Введите третью цифру билета'))\n",
    "bilet4_number_input = int(input('Введите четвертую цифру билета'))\n",
    "bilet5_number_input = int(input('Введите пятую цифру билета'))\n",
    "bilet6_number_input = int(input('Введите шестую цифру билета'))\n",
    "pervie3_cifr = bilet1_number_input + bilet2_number_input + bilet3_number_input\n",
    "vtorie3_cifr = bilet4_number_input + bilet5_number_input + bilet6_number_input\n",
    "if pervie3_cifr == vtorie3_cifr:\n",
    "    print('Счастливый билет')\n",
    "elif pervie3_cifr != vtorie3_cifr:\n",
    "    print('Неасчастливый билет')"
   ]
  },
  {
   "cell_type": "markdown",
   "metadata": {},
   "source": [
    "Решение задание 6"
   ]
  },
  {
   "cell_type": "code",
   "execution_count": null,
   "metadata": {},
   "outputs": [],
   "source": [
    "vopros_input = input('Напишите фигуру, площадь которой нужно вычислить (Варианты ответов: круг, треугольник, прямоугольник)?')\n",
    "if vopros_input == 'круг':\n",
    "    vopros_krug_input = int(input('Введите радиус круга:'))\n",
    "    r = vopros_krug_input\n",
    "    s = 3.14*r**2\n",
    "    print('Площадь круга: ', s)\n",
    "elif vopros_input == 'прямоугольник':\n",
    "    voprosA_prjam_input = int(input('Введите длину стороны a:'))\n",
    "    voprosB_prjam_input = int(input('Введите длину стороны b:'))\n",
    "    a = voprosA_prjam_input\n",
    "    b = voprosB_prjam_input\n",
    "    s = a * b\n",
    "    print('Площадь прямоугольника: ', s)\n",
    "elif vopros_input == 'треугольник':\n",
    "    print('Не победил формулу треугольника и расчета его основания=)')\n",
    "else:\n",
    "     print('Не верный выбор')"
   ]
  }
 ],
 "metadata": {
  "kernelspec": {
   "display_name": "Python 3",
   "language": "python",
   "name": "python3"
  },
  "language_info": {
   "codemirror_mode": {
    "name": "ipython",
    "version": 3
   },
   "file_extension": ".py",
   "mimetype": "text/x-python",
   "name": "python",
   "nbconvert_exporter": "python",
   "pygments_lexer": "ipython3",
   "version": "3.8.3"
  }
 },
 "nbformat": 4,
 "nbformat_minor": 4
}
